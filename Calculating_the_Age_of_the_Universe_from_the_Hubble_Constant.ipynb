{
  "nbformat": 4,
  "nbformat_minor": 0,
  "metadata": {
    "colab": {
      "provenance": [],
      "authorship_tag": "ABX9TyMH+Cr1gtXntrHm4ijpfZzw",
      "include_colab_link": true
    },
    "kernelspec": {
      "name": "python3",
      "display_name": "Python 3"
    },
    "language_info": {
      "name": "python"
    }
  },
  "cells": [
    {
      "cell_type": "markdown",
      "metadata": {
        "id": "view-in-github",
        "colab_type": "text"
      },
      "source": [
        "<a href=\"https://colab.research.google.com/github/AinsleyJacquemain/ASTRON-1221/blob/main/Calculating_the_Age_of_the_Universe_from_the_Hubble_Constant.ipynb\" target=\"_parent\"><img src=\"https://colab.research.google.com/assets/colab-badge.svg\" alt=\"Open In Colab\"/></a>"
      ]
    },
    {
      "cell_type": "code",
      "execution_count": 2,
      "metadata": {
        "id": "fJDiYhzhDIM2"
      },
      "outputs": [],
      "source": [
        "import astropy.units as u # import a Python package to call certain units.\n",
        "import astropy.constants as const # import a Python package to call the value of certain constants.\n",
        "import numpy as np  # import numpy package, which allows us to conduct mathematical operations for the defined quantities."
      ]
    },
    {
      "cell_type": "code",
      "source": [
        "d = 1 * u.Mpc # define d, or the distance.\n",
        "print(d)"
      ],
      "metadata": {
        "colab": {
          "base_uri": "https://localhost:8080/"
        },
        "id": "vCHwfoKBDfTs",
        "outputId": "6fe4a96e-f4f9-4503-e5b8-4bdd6a742e9e"
      },
      "execution_count": 4,
      "outputs": [
        {
          "output_type": "stream",
          "name": "stdout",
          "text": [
            "1.0 Mpc\n"
          ]
        }
      ]
    },
    {
      "cell_type": "code",
      "source": [
        "v = 70 * u.km/u.s # define v, or the velocity, which is, in this instance, the Hubble Constant.\n",
        "print(v.to(u.Mpc / u.s))"
      ],
      "metadata": {
        "colab": {
          "base_uri": "https://localhost:8080/"
        },
        "id": "z9VtxM--Dtd9",
        "outputId": "4a3bdc4c-d29a-47b0-f01f-bec93d656f96"
      },
      "execution_count": 7,
      "outputs": [
        {
          "output_type": "stream",
          "name": "stdout",
          "text": [
            "2.2685455026110553e-18 Mpc / s\n"
          ]
        }
      ]
    },
    {
      "cell_type": "code",
      "source": [
        "def CalculatingUniverseAge(d, v): # d and v represent the input of the function.\n",
        "    t = np.divide(d, v)\n",
        "    return t\n",
        "print(t.to(u.Gyr)) # define the output, which is the function for t, or the time."
      ],
      "metadata": {
        "id": "aEFjfrwlDNFQ",
        "colab": {
          "base_uri": "https://localhost:8080/"
        },
        "outputId": "83cbeef3-f655-49da-d1bc-d47e28685bc1"
      },
      "execution_count": 23,
      "outputs": [
        {
          "output_type": "stream",
          "name": "stdout",
          "text": [
            "13.968460309725558 Gyr\n"
          ]
        }
      ]
    },
    {
      "cell_type": "markdown",
      "source": [
        "The age of the universe based on the Hubble Constant calculation is approximately 13.97 Gyr, or approximately 1.397 * 10^10  years.\n",
        "\n"
      ],
      "metadata": {
        "id": "9XcMEPUhtop3"
      }
    }
  ]
}