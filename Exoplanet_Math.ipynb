{
  "nbformat": 4,
  "nbformat_minor": 0,
  "metadata": {
    "colab": {
      "provenance": [],
      "authorship_tag": "ABX9TyMx8DToRlB18NVSPa5VtQFd",
      "include_colab_link": true
    },
    "kernelspec": {
      "name": "python3",
      "display_name": "Python 3"
    },
    "language_info": {
      "name": "python"
    }
  },
  "cells": [
    {
      "cell_type": "markdown",
      "metadata": {
        "id": "view-in-github",
        "colab_type": "text"
      },
      "source": [
        "<a href=\"https://colab.research.google.com/github/AinsleyJacquemain/ASTRON-1221/blob/main/Exoplanet_Math.ipynb\" target=\"_parent\"><img src=\"https://colab.research.google.com/assets/colab-badge.svg\" alt=\"Open In Colab\"/></a>"
      ]
    },
    {
      "cell_type": "markdown",
      "source": [
        "When it comes to exoplanets, we want to know...\n",
        "\n",
        "\n",
        "*   Age\n",
        "*   Structure\n",
        "*   Life\n",
        "*   Mass\n",
        "*   Size / Radius\n",
        "*   Chemical Composition\n",
        "\n",
        "\n"
      ],
      "metadata": {
        "id": "ZoH6UH1F4scY"
      }
    },
    {
      "cell_type": "markdown",
      "source": [
        "Size / Radius -- Transit Method"
      ],
      "metadata": {
        "id": "R0joWW3f7vEf"
      }
    },
    {
      "cell_type": "markdown",
      "source": [
        "The Transit Method measures the luminous energy (and the potential dimming of said energy by an orbiting body) of a star to determine if an exoplanet exists.\n",
        "\n",
        "Let $\\delta$ equal the ratio of the observed change in flux, or the amount of energy from a luminous body that reaches a surface.\n",
        "\n",
        "$\\delta = (\\frac{R{planet}}{R{star}})^2$\n",
        "\n",
        "$(R_{planet} = \\sqrt\\delta \\times R_{star})$\n",
        "\n",
        "We can use the equation for $\\delta$ to determine the dimming of the star's light due to the orbiting planet.\n",
        "\n",
        "As an example, we will use earth and Jupiter as the orbiting bodies to the sun."
      ],
      "metadata": {
        "id": "5fT0WMwFyQMP"
      }
    },
    {
      "cell_type": "code",
      "execution_count": 1,
      "metadata": {
        "id": "KFRSS_054pDs"
      },
      "outputs": [],
      "source": [
        "import astropy.units as u # import a Python package to call certain units.\n",
        "import astropy.constants as c # import a Python package to call the value of certain constants."
      ]
    },
    {
      "cell_type": "code",
      "source": [
        "delta_earth_sun = (u.earthRad / u.solRad)**2 # calculate delta for the earth as it orbits the sun.\n",
        "print(delta_earth_sun.decompose()) # decompose tells the code to cancel the units."
      ],
      "metadata": {
        "colab": {
          "base_uri": "https://localhost:8080/"
        },
        "id": "tnGmjm7Y6Akp",
        "outputId": "550b8464-0058-44cf-a898-ec9ce7ecb7ac"
      },
      "execution_count": 2,
      "outputs": [
        {
          "output_type": "stream",
          "name": "stdout",
          "text": [
            "8.40502e-05\n"
          ]
        }
      ]
    },
    {
      "cell_type": "code",
      "source": [
        "delta_jupiter_sun = (u.jupiterRad / u.solRad)**2 # calculate delta for Jupiter as it orbits the sun.\n",
        "print(delta_jupiter_sun.decompose()) # decompose tells the code to cancel the units."
      ],
      "metadata": {
        "colab": {
          "base_uri": "https://localhost:8080/"
        },
        "id": "vDSLGM2e6baI",
        "outputId": "50e98ca4-9433-4ecc-fcc7-6ac769b126fa"
      },
      "execution_count": 3,
      "outputs": [
        {
          "output_type": "stream",
          "name": "stdout",
          "text": [
            "0.0105602\n"
          ]
        }
      ]
    },
    {
      "cell_type": "code",
      "source": [
        "(u.jupiterMass / u.earthMass).decompose() # jupiter is easier to detect than earth because, even though it is farther away, it is 300 times more massive than earth."
      ],
      "metadata": {
        "colab": {
          "base_uri": "https://localhost:8080/",
          "height": 37
        },
        "id": "k8ALmiZ80_Ur",
        "outputId": "5aaf7630-3a54-4c41-e398-cb053a05112f"
      },
      "execution_count": 10,
      "outputs": [
        {
          "output_type": "execute_result",
          "data": {
            "text/plain": [
              "Unit(dimensionless with a scale of 317.8284065946748)"
            ],
            "text/latex": "$\\mathrm{317.82841}$"
          },
          "metadata": {},
          "execution_count": 10
        }
      ]
    },
    {
      "cell_type": "markdown",
      "source": [
        "Note that $\\delta$ is much larger for Jupiter than it is for earth. Because Jupiter is so much larger, Jupiter blocks more solar luminous energy from reaching an outside source when orbiting than the earth does.\n"
      ],
      "metadata": {
        "id": "1lIOiIMI0Pr9"
      }
    },
    {
      "cell_type": "markdown",
      "source": [
        "Mass -- Radiovelocity Method\n"
      ],
      "metadata": {
        "id": "lviZ43AT7wZo"
      }
    },
    {
      "cell_type": "markdown",
      "source": [
        "The Radiovelocity measures slight, 'wobbling' change in a star's motion, hypothetically caused by an orbiting body, to determine if an exoplanet exists.\n",
        "\n",
        "Consider the equation for the conservation of momentum, as well as the equation for orbital velocity, in order to determine an equation for the radial velocity of a star by an orbiting exoplanet.\n",
        "\n",
        "$v_{orbital] = \\sqrt\\frac{GM}{R}$.\n",
        "\n",
        "$m_sv_s = m_pv_p$\n",
        "\n",
        "$m_sv_s = m_pv_{orbital_p}$\n",
        "\n",
        "$m_sv_s = m_p\\sqrt\\frac{GM}{a}$\n",
        "\n",
        "\n"
      ],
      "metadata": {
        "id": "NEuEsEpryeAV"
      }
    },
    {
      "cell_type": "code",
      "source": [
        "import numpy as np # import numpy package, which allows us to conduct mathematical operations for the defined quantities.\n",
        "v_orb_earth = np.sqrt(c.G * u.solMass / u.AU) # calculate the orbital velocity of the earth.\n",
        "print(v_orb_earth.to(u.m / u.s)) # note how great of an impact the sun has on the velocity of the earth. This is because the sun is exonentially more massive than the earth."
      ],
      "metadata": {
        "colab": {
          "base_uri": "https://localhost:8080/"
        },
        "id": "32KZEO7Z7xp1",
        "outputId": "5fa9795f-f93b-4b95-e611-d977683f2b36"
      },
      "execution_count": 4,
      "outputs": [
        {
          "output_type": "stream",
          "name": "stdout",
          "text": [
            "29784.691829676933 m / s\n"
          ]
        }
      ]
    },
    {
      "cell_type": "markdown",
      "source": [
        "The orbital velocity of the sun around the earth can be found by using the orbital velocity equation above.\n",
        "\n",
        "However, the orbital velocity of the sun around the center of mass of the earth-sun system can be found by using the equation for the conservation of momentum. This is the value we want.\n",
        "\n",
        "$m_sv_s = m_pv_p$\n",
        "\n",
        "$v_s = \\frac{m_p}{m_s} \\times v_p$.\n",
        "\n",
        "$v_s = \\frac{m_p}{m_s} \\times v_{orbital_p}$."
      ],
      "metadata": {
        "id": "_8l5HynU9rJv"
      }
    },
    {
      "cell_type": "code",
      "source": [
        "v_orb_sun = np.sqrt(c.G * u.earthMass / u.AU) # calculate the orbital velocity of the sun using the orbital velocity equation.\n",
        "print(v_orb_earth.to(u.m / u.s)) # note how great of an impact the sun has on the velocity of the earth. This is because the sun is exonentially more massive than the earth.\n",
        "#This is not the value we want. We want the velocity around the center of mass of the earth-sun system."
      ],
      "metadata": {
        "colab": {
          "base_uri": "https://localhost:8080/"
        },
        "id": "TueMjH8L3o-2",
        "outputId": "a1b620be-f5fd-4ced-a728-32dd772ca442"
      },
      "execution_count": 12,
      "outputs": [
        {
          "output_type": "stream",
          "name": "stdout",
          "text": [
            "29784.691829676933 m / s\n"
          ]
        }
      ]
    },
    {
      "cell_type": "code",
      "source": [
        "v_sun = u.earthMass / u.solMass * v_orb_earth # calculate the velocity of the sun around the earth-sun system using the conservation of momentum equation.\n",
        "print(v_sun.to(u.m / u.s)) # note how small of an impact the earth has on the velocity of the sun. This is because the earth is exonentially less massive than the sun.\n",
        "#This is the value that we want!"
      ],
      "metadata": {
        "colab": {
          "base_uri": "https://localhost:8080/"
        },
        "id": "-lCxbwnZ9kgA",
        "outputId": "270ecb85-87eb-486e-9f1b-669b9a80dc17"
      },
      "execution_count": 11,
      "outputs": [
        {
          "output_type": "stream",
          "name": "stdout",
          "text": [
            "0.08945800466923791 m / s\n"
          ]
        }
      ]
    },
    {
      "cell_type": "markdown",
      "source": [
        "The radial velocity graph is a sinusoidal. The x-axis tells us the orbital period. Knowing the orbital period, we know the separation.\n",
        "\n",
        "Consider the following a continuation of the work done above.\n",
        "\n",
        "$v_s = \\frac{m_p\\sqrt\\frac{GM}{a}}{m_s}$\n",
        "\n",
        "The velocity of the star is proportional to the mass of the planet and inversely proportional to the square root of $a$.\n",
        "\n",
        "$\\frac{a^3}{p^2}$ says that $a$ is proportional to $p^\\frac{2}{3}$.\n",
        "\n",
        "$v_s$ is proportional to $m_pa^\\frac{-1}{2}$ and $m_pp^\\frac{-1}{3}$.\n",
        "\n",
        "$v_s = 0.09 m/s \\times (\\frac{m_p}{m_\\oplus})(\\frac{p}{1 yr})^\\frac{-1}{3}$\n",
        "\n",
        "We now have an equation to determine the radial velocity of the star due to the planet, a.k.a. 'the wobble.'\n",
        "\n",
        "As an example, we will use earth and Jupiter as the orbiting bodies to the sun."
      ],
      "metadata": {
        "id": "ac4VzIa2_zZ0"
      }
    },
    {
      "cell_type": "code",
      "source": [
        "v_s_jupiter = 0.09 * u.m / u.s * (u.jupiterMass / u.earthMass) * (11.9 * u.yr / u.yr)**(-1/3) # calculate the radial velocity of the sun due to Jupiter.\n",
        "print(v_s_jupiter.to(u.m / u.s)) # print out the radial velocity value and compare to that of the earth (see below)."
      ],
      "metadata": {
        "colab": {
          "base_uri": "https://localhost:8080/"
        },
        "id": "fAR9Bwfb_yzB",
        "outputId": "46bd4186-95e1-4db0-e2d4-ec7b0c0ed27b"
      },
      "execution_count": 6,
      "outputs": [
        {
          "output_type": "stream",
          "name": "stdout",
          "text": [
            "12.529091077198903 m / s\n"
          ]
        }
      ]
    },
    {
      "cell_type": "code",
      "source": [
        "v_s_earth = 0.09 * u.m / u.s * (u.earthMass / u.earthMass) * (11.9 * u.yr / u.yr)**(-1/3) # calculate the radial velocity of the sun due to the earth.\n",
        "print(v_s_earth.to(u.m / u.s)) # print out the radial velocity value and compare to that of Jupiter (see above)."
      ],
      "metadata": {
        "colab": {
          "base_uri": "https://localhost:8080/"
        },
        "id": "uvMHcHh9xaKp",
        "outputId": "62070a0f-a78c-498d-c84b-8e486df83c3f"
      },
      "execution_count": 9,
      "outputs": [
        {
          "output_type": "stream",
          "name": "stdout",
          "text": [
            "0.03942092908384114 m / s\n"
          ]
        }
      ]
    },
    {
      "cell_type": "code",
      "source": [
        "(u.jupiterMass / u.earthMass).decompose() # jupiter is easier to detect than earth because, even though it is farther away, it is 300 times more massive than earth."
      ],
      "metadata": {
        "colab": {
          "base_uri": "https://localhost:8080/",
          "height": 37
        },
        "id": "d7_TydsmCmuZ",
        "outputId": "bcdc37e1-22ae-4073-ce9e-4d4320483d8a"
      },
      "execution_count": 7,
      "outputs": [
        {
          "output_type": "execute_result",
          "data": {
            "text/plain": [
              "Unit(dimensionless with a scale of 317.8284065946748)"
            ],
            "text/latex": "$\\mathrm{317.82841}$"
          },
          "metadata": {},
          "execution_count": 7
        }
      ]
    },
    {
      "cell_type": "markdown",
      "source": [
        "Note that $v_s$ is much larger for Jupiter than it is for earth. Because Jupiter is so much larger, Jupiter causes the sun to have more of a 'wobble' than the earth does."
      ],
      "metadata": {
        "id": "vWoVzHkr6KJx"
      }
    },
    {
      "cell_type": "code",
      "source": [
        "rho_earth = u.earthMass / (4 * np.pi * u.earthRad**3 / 3.0) # here is an additional calculation for the density of the earth. The more you know!\n",
        "print(rho_earth.decompose()) # because earth's density is between rock and iron, we can infer that it is made of both rock and iron."
      ],
      "metadata": {
        "colab": {
          "base_uri": "https://localhost:8080/"
        },
        "id": "IAmK73LrC_h7",
        "outputId": "bab600c2-4e58-4809-a927-8d1ed2bf2c0e"
      },
      "execution_count": 8,
      "outputs": [
        {
          "output_type": "stream",
          "name": "stdout",
          "text": [
            "5495.021865555212 kg / m3\n"
          ]
        }
      ]
    }
  ]
}