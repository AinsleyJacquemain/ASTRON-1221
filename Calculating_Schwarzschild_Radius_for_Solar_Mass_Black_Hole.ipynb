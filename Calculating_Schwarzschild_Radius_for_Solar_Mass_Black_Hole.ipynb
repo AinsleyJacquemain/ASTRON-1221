{
  "nbformat": 4,
  "nbformat_minor": 0,
  "metadata": {
    "colab": {
      "provenance": [],
      "authorship_tag": "ABX9TyOqFIQj9GUMokVhbi2utTHo",
      "include_colab_link": true
    },
    "kernelspec": {
      "name": "python3",
      "display_name": "Python 3"
    },
    "language_info": {
      "name": "python"
    }
  },
  "cells": [
    {
      "cell_type": "markdown",
      "metadata": {
        "id": "view-in-github",
        "colab_type": "text"
      },
      "source": [
        "<a href=\"https://colab.research.google.com/github/AinsleyJacquemain/ASTRON-1221/blob/main/Calculating_Schwarzschild_Radius_for_Solar_Mass_Black_Hole.ipynb\" target=\"_parent\"><img src=\"https://colab.research.google.com/assets/colab-badge.svg\" alt=\"Open In Colab\"/></a>"
      ]
    },
    {
      "cell_type": "code",
      "execution_count": 1,
      "metadata": {
        "id": "0AdmpK3HJFJ9"
      },
      "outputs": [],
      "source": [
        "import astropy.constants as const # import a Python package to call the value of certain constants.\n",
        "import astropy.units as u # import a Python package to call certain units, for example, the mass of the Sun."
      ]
    },
    {
      "cell_type": "code",
      "source": [
        "M = 1 * u.solMass # define M as a physical quantity with a value and a unit.\n",
        "print(M.to(u.kg)) # print out M in the unit of kilograms."
      ],
      "metadata": {
        "colab": {
          "base_uri": "https://localhost:8080/"
        },
        "id": "W0hNHNQsJe8-",
        "outputId": "bcea5f51-ddbd-4c48-d726-06bb2e9d4527"
      },
      "execution_count": 2,
      "outputs": [
        {
          "output_type": "stream",
          "name": "stdout",
          "text": [
            "1.988409870698051e+30 kg\n"
          ]
        }
      ]
    },
    {
      "cell_type": "code",
      "source": [
        "G = const.G # define G as the gravitational constant.\n",
        "print(G.si) # print out G in the S.I. units."
      ],
      "metadata": {
        "colab": {
          "base_uri": "https://localhost:8080/"
        },
        "id": "ALS_k0czJvKf",
        "outputId": "1a3835ae-f59c-41ef-d641-7c43872891b2"
      },
      "execution_count": 3,
      "outputs": [
        {
          "output_type": "stream",
          "name": "stdout",
          "text": [
            "  Name   = Gravitational constant\n",
            "  Value  = 6.6743e-11\n",
            "  Uncertainty  = 1.5e-15\n",
            "  Unit  = m3 / (kg s2)\n",
            "  Reference = CODATA 2018\n"
          ]
        }
      ]
    },
    {
      "cell_type": "code",
      "source": [
        "import numpy as np # import numpy package, which allows us to conduct mathematical operations for the defined quantities."
      ],
      "metadata": {
        "id": "Joy9bycoJ0t8"
      },
      "execution_count": 4,
      "outputs": []
    },
    {
      "cell_type": "code",
      "source": [
        "V = const.c # define V as the speed of light.\n",
        "print(V.to(u.m/u.s)) # print out c in the S.I. units."
      ],
      "metadata": {
        "colab": {
          "base_uri": "https://localhost:8080/"
        },
        "id": "VR9TgLt-J4aq",
        "outputId": "371d1c34-3af6-4372-817f-381905ba6d53"
      },
      "execution_count": 5,
      "outputs": [
        {
          "output_type": "stream",
          "name": "stdout",
          "text": [
            "299792458.0 m / s\n"
          ]
        }
      ]
    },
    {
      "cell_type": "code",
      "source": [
        "R = (G * M) / (V**2) # calculate Schwarzschild Radius based on the equation.\n",
        "print(R.to(u.m)) # print out Schwarzschild Radius."
      ],
      "metadata": {
        "colab": {
          "base_uri": "https://localhost:8080/"
        },
        "id": "of2hqxulKWpQ",
        "outputId": "f215cc34-9ce9-45e3-cc5c-ad2469c0b78b"
      },
      "execution_count": 6,
      "outputs": [
        {
          "output_type": "stream",
          "name": "stdout",
          "text": [
            "1476.6250380501249 m\n"
          ]
        }
      ]
    }
  ]
}