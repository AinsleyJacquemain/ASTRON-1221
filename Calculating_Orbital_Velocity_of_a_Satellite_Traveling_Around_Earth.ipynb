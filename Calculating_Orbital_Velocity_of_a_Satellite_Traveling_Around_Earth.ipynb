{
  "nbformat": 4,
  "nbformat_minor": 0,
  "metadata": {
    "colab": {
      "provenance": [],
      "authorship_tag": "ABX9TyPE3dVZCECCXYDoT7IhNe8e",
      "include_colab_link": true
    },
    "kernelspec": {
      "name": "python3",
      "display_name": "Python 3"
    },
    "language_info": {
      "name": "python"
    }
  },
  "cells": [
    {
      "cell_type": "markdown",
      "metadata": {
        "id": "view-in-github",
        "colab_type": "text"
      },
      "source": [
        "<a href=\"https://colab.research.google.com/github/AinsleyJacquemain/ASTRON-1221/blob/main/Calculating_Orbital_Velocity_of_a_Satellite_Traveling_Around_Earth.ipynb\" target=\"_parent\"><img src=\"https://colab.research.google.com/assets/colab-badge.svg\" alt=\"Open In Colab\"/></a>"
      ]
    },
    {
      "cell_type": "code",
      "execution_count": 1,
      "metadata": {
        "id": "uT4XYuXhLsWu"
      },
      "outputs": [],
      "source": [
        "import astropy.constants as const # import a Python package to call the value of certain constants.\n",
        "import astropy.units as u # import a Python package to call certain units, for example, the mass of the Sun."
      ]
    },
    {
      "cell_type": "code",
      "source": [
        "M = 1 * u.M_earth # define M as a physical quantity with a value and a unit.\n",
        "print(M.to(u.kg)) # print out M in the unit of kilograms."
      ],
      "metadata": {
        "colab": {
          "base_uri": "https://localhost:8080/"
        },
        "id": "GGHEYYwzL7YJ",
        "outputId": "2229d6e8-1bad-4814-80dd-2d4330c4c3aa"
      },
      "execution_count": 2,
      "outputs": [
        {
          "output_type": "stream",
          "name": "stdout",
          "text": [
            "5.972167867791379e+24 kg\n"
          ]
        }
      ]
    },
    {
      "cell_type": "code",
      "source": [
        "# Because the distance from the Earth's surface to the satellite is negligible, we can create a model which uses Earth's radius for r.\n",
        "R = 1 * u.R_earth # define R as the radius of the Earth (the radius of the satellite's orbit).\n",
        "print(R. to(u.m)) # print out R in the unit of meters."
      ],
      "metadata": {
        "colab": {
          "base_uri": "https://localhost:8080/"
        },
        "id": "RWtJx6BNMlX3",
        "outputId": "0a758031-ba26-4645-b9da-c5d5494b6764"
      },
      "execution_count": 3,
      "outputs": [
        {
          "output_type": "stream",
          "name": "stdout",
          "text": [
            "6378100.0 m\n"
          ]
        }
      ]
    },
    {
      "cell_type": "code",
      "source": [
        "G = const.G # define G as the gravitational constant.\n",
        "print(G.si) # print out G in the S.I. units."
      ],
      "metadata": {
        "colab": {
          "base_uri": "https://localhost:8080/"
        },
        "id": "JRJr1q-2M5Wv",
        "outputId": "45053653-d3c6-4bb0-b989-b2fc591087b5"
      },
      "execution_count": 4,
      "outputs": [
        {
          "output_type": "stream",
          "name": "stdout",
          "text": [
            "  Name   = Gravitational constant\n",
            "  Value  = 6.6743e-11\n",
            "  Uncertainty  = 1.5e-15\n",
            "  Unit  = m3 / (kg s2)\n",
            "  Reference = CODATA 2018\n"
          ]
        }
      ]
    },
    {
      "cell_type": "code",
      "source": [
        "import numpy as np # import numpy package, which allows us to conduct mathematical operations for the defined quantities."
      ],
      "metadata": {
        "id": "wX0tJ7-CNAIX"
      },
      "execution_count": 5,
      "outputs": []
    },
    {
      "cell_type": "code",
      "source": [
        "V = np.sqrt(G * M / R) # calculate orbital velocity based on the equation.\n",
        "print(V.to(u.m/u.s)) # print out orbital velocity of a satellite around the Earth."
      ],
      "metadata": {
        "colab": {
          "base_uri": "https://localhost:8080/"
        },
        "id": "cebIEBP1NB8w",
        "outputId": "362af159-e225-4384-fd06-9dd21a5b1124"
      },
      "execution_count": 6,
      "outputs": [
        {
          "output_type": "stream",
          "name": "stdout",
          "text": [
            "7905.388234385281 m / s\n"
          ]
        }
      ]
    },
    {
      "cell_type": "code",
      "source": [],
      "metadata": {
        "id": "EoJjZGqgNHPC"
      },
      "execution_count": null,
      "outputs": []
    }
  ]
}